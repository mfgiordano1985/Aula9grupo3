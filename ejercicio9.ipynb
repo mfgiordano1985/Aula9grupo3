{
  "nbformat": 4,
  "nbformat_minor": 0,
  "metadata": {
    "colab": {
      "name": "ejercicio9",
      "provenance": [],
      "toc_visible": true,
      "authorship_tag": "ABX9TyNxeQxzuN/XWsRD+X5fzu7H",
      "include_colab_link": true
    },
    "kernelspec": {
      "name": "python3",
      "display_name": "Python 3"
    },
    "language_info": {
      "name": "python"
    }
  },
  "cells": [
    {
      "cell_type": "markdown",
      "metadata": {
        "id": "view-in-github",
        "colab_type": "text"
      },
      "source": [
        "<a href=\"https://colab.research.google.com/github/mfgiordano1985/Aula9grupo3/blob/Branch-Yackelina-Rivera/ejercicio9.ipynb\" target=\"_parent\"><img src=\"https://colab.research.google.com/assets/colab-badge.svg\" alt=\"Open In Colab\"/></a>"
      ]
    },
    {
      "cell_type": "code",
      "source": [
        "Historial5 = {8520, 9510, 7530, 3570, 1590}\n",
        "def minimo(tupla):\n",
        "  maximo = max(tupla)\n",
        "  print(maximo)\n",
        "minimo(Historial5)\n"
      ],
      "metadata": {
        "colab": {
          "base_uri": "https://localhost:8080/"
        },
        "id": "VrkS57Tm0png",
        "outputId": "af0ac4ce-4eb7-44e6-f837-9f6773cb1e8a"
      },
      "execution_count": 1,
      "outputs": [
        {
          "output_type": "stream",
          "name": "stdout",
          "text": [
            "9510\n"
          ]
        }
      ]
    }
  ]
}