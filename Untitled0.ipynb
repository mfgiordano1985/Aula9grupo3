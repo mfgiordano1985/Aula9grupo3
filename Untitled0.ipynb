{
  "nbformat": 4,
  "nbformat_minor": 0,
  "metadata": {
    "colab": {
      "name": "Untitled0.ipynb",
      "provenance": [],
      "authorship_tag": "ABX9TyM3lcrEgMZJBTn+Z64WJOn2",
      "include_colab_link": true
    },
    "kernelspec": {
      "name": "python3",
      "display_name": "Python 3"
    },
    "language_info": {
      "name": "python"
    }
  },
  "cells": [
    {
      "cell_type": "markdown",
      "metadata": {
        "id": "view-in-github",
        "colab_type": "text"
      },
      "source": [
        "<a href=\"https://colab.research.google.com/github/mfgiordano1985/Aula9grupo3/blob/Branch-Yackelina-Rivera/Untitled0.ipynb\" target=\"_parent\"><img src=\"https://colab.research.google.com/assets/colab-badge.svg\" alt=\"Open In Colab\"/></a>"
      ]
    },
    {
      "cell_type": "code",
      "source": [
        "Historial4 = {7510, 7960, 76180, 800, 4100}\n",
        "def minimo(tupla):\n",
        "  minimo = min(tupla)\n",
        "  print(minimo)\n",
        "minimo(Historial4)\n"
      ],
      "metadata": {
        "colab": {
          "base_uri": "https://localhost:8080/"
        },
        "id": "69GUp9-N0es3",
        "outputId": "438ce5c0-e7cd-45b9-e0fb-4489c4eaadb2"
      },
      "execution_count": 8,
      "outputs": [
        {
          "output_type": "stream",
          "name": "stdout",
          "text": [
            "800\n"
          ]
        }
      ]
    },
    {
      "cell_type": "code",
      "source": [
        "Historial5 = {8520, 9510, 7530, 3570, 1590}\n",
        "def minimo(tupla):\n",
        "  maximo = max(tupla)\n",
        "  print(maximo)\n",
        "minimo(Historial5)\n"
      ],
      "metadata": {
        "colab": {
          "base_uri": "https://localhost:8080/"
        },
        "id": "VrkS57Tm0png",
        "outputId": "6786d3af-504f-4505-bc45-55f062fd5baf"
      },
      "execution_count": 10,
      "outputs": [
        {
          "output_type": "stream",
          "name": "stdout",
          "text": [
            "9510\n"
          ]
        }
      ]
    }
  ]
}